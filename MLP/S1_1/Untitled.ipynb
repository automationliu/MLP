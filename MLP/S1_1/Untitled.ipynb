{
 "cells": [
  {
   "cell_type": "markdown",
   "metadata": {
    "scrolled": true
   },
   "source": [
    "\n"
   ]
  },
  {
   "cell_type": "code",
   "execution_count": 25,
   "metadata": {},
   "outputs": [
    {
     "name": "stdout",
     "output_type": "stream",
     "text": [
      "'list'  标识符是否合法：\n",
      "   True\n",
      "'abc#'  标识符是否合法：\n",
      "   False\n",
      "'1a'  标识符是否合法：\n",
      "   False\n"
     ]
    }
   ],
   "source": [
    "import keyword,string\n",
    "\n",
    "def Identifier(s):\n",
    "    kw = keyword.kwlist #内置关键字\n",
    "    #请用if-else完成检测，打印conflict或者False\n",
    "    #your code here\n",
    "    alphas = string.ascii_letters +'_'\n",
    "    nums = string.digits\n",
    "    length = len(s)\n",
    "    alphanum = alphas+nums\n",
    "    print(\"'\"+s+\"'\"+\"  标识符是否合法：\")\n",
    "    if s[0] not in alphas:\n",
    "#         print ('invalid: the first symbol must be a letter or _')\n",
    "        print ('   False')\n",
    "        return \n",
    "    if length>1:\n",
    "        if s in kw:\n",
    "#             print ('invalid: symbol cannot be a keyword')\n",
    "            print ('   False')\n",
    "            return \n",
    "        for otherchar in s[1:]:\n",
    "            if otherchar not in alphanum:\n",
    "#                 print ('invalid: other symbols must be numbers, letters, or _')\n",
    "                print ('   False')\n",
    "                return \n",
    "        print('   True')\n",
    "        return \n",
    "    else:\n",
    "        print('   True')\n",
    "        return \n",
    "    return \n",
    "\n",
    "Identifier(\"list\")\n",
    "Identifier(\"abc#\")\n",
    "Identifier(\"1a\")"
   ]
  },
  {
   "cell_type": "markdown",
   "metadata": {},
   "source": [
    "编写一个函数，能生成包含20个随机整数的列表，然后将前10个元素升序排列，后10个元素降序排列，并分别打印输出¶\n",
    "提示：本题考察对列表的切片和排序操作，注意切片下标。"
   ]
  },
  {
   "cell_type": "code",
   "execution_count": 43,
   "metadata": {},
   "outputs": [
    {
     "name": "stdout",
     "output_type": "stream",
     "text": [
      "[3576, 5678, 9774, 13456, 18805, 40746, 45757, 48731, 53260, 56527]\n",
      "[65313, 51109, 50913, 50419, 49238, 46695, 42741, 33993, 32127, 20616]\n"
     ]
    }
   ],
   "source": [
    "import random\n",
    "def sort2part():\n",
    "    # 用random生成20个随机数并完成本题要求\n",
    "    #your code here\n",
    "    \n",
    "    list_1 = []\n",
    "    listSort=[]\n",
    "    for i in range(20):\n",
    "#         list_1.append(random.randint(0,65535))\n",
    "        list_1.append(random.randint(0,65535))\n",
    "#     print(list_1)\n",
    "#     print(list_1[0:10])\n",
    "#     print(list_1[10:20])\n",
    "    listSort=bubbleSort(list_1[0:10],\"asc\")\n",
    "    print(listSort)\n",
    "    listSort=bubbleSort(list_1[10:20],\"desc\")\n",
    "    print(listSort)\n",
    "    return \n",
    "\n",
    "def bubbleSort(arr,sortType):\n",
    "    n = len(arr)\n",
    "    # 遍历所有数组元素\n",
    "    for i in range(n):\n",
    "        # Last i elements are already in place\n",
    "        for j in range(0, n-i-1):\n",
    "            if(sortType=='desc'):\n",
    "                if arr[j] < arr[j+1] :\n",
    "                    arr[j], arr[j+1] = arr[j+1], arr[j]\n",
    "            else:\n",
    "                if arr[j] > arr[j+1] :\n",
    "                    arr[j], arr[j+1] = arr[j+1], arr[j]\n",
    "    return arr\n",
    "\n",
    "sort2part()"
   ]
  },
  {
   "cell_type": "markdown",
   "metadata": {},
   "source": [
    "有一分数序列为：2/1，3/2，5/3，8/5，13/8，21/13,请使用Python代码出生成并打印该数列的前30项并求和返回¶\n",
    "提示：观察分数的分子和分母，每1项都和前2项有关系，也可检索“斐波那契数列”"
   ]
  },
  {
   "cell_type": "code",
   "execution_count": 59,
   "metadata": {},
   "outputs": [
    {
     "name": "stdout",
     "output_type": "stream",
     "text": [
      "该数列的前30项和:  48.84060068717216\n"
     ]
    }
   ],
   "source": [
    "def fab(max): \n",
    "    # 完成分子分母的生成并计算求和返回结果\n",
    "    # your code here\n",
    "    res = []\n",
    "    sumNum=0\n",
    "    for i in range(max+3):\n",
    "        res.append(fib1(i))\n",
    "#     print (res[2:33])\n",
    "#     print (len(res[2:33]))\n",
    "    res=res[2:33]\n",
    "    for i in range(max):\n",
    "        sumNum=res[i+1]/res[i]+sumNum\n",
    "#     print(sumNum)\n",
    "    return sumNum\n",
    "def fib1(n):\n",
    "    if n == 0:\n",
    "        return 0\n",
    "    elif n == 1:\n",
    "        return 1\n",
    "    else:\n",
    "        return fib1(n - 1) + fib1(n - 2)\n",
    "    \n",
    "\n",
    "print(\"该数列的前30项和: \",fab(30))"
   ]
  },
  {
   "cell_type": "markdown",
   "metadata": {},
   "source": [
    "BMI编写¶\n",
    "身体质量指数（BMI）是根据人的体重和身高计算得出的一个数字，BMI是可靠的身体肥胖指标，其计算公式：BMI=Weight/High2，其中体重单位为公斤，身高单位为米。\n",
    "\n",
    "计算公式为： BMI=体重（kg）÷身高2（m） \n",
    "提示用户输入体重（kg）和身高的数字(m)(注意单位），然后计算BMI。\n",
    "\n",
    "根据BMI指数范围，定义当前健康状态。BMI指数在18至25之间定义为健康的标准体重,小于该范围定义为偏瘦，超过该范围定义为偏重。\n",
    "\n",
    "将BMI指数和其所代表状态输出"
   ]
  },
  {
   "cell_type": "code",
   "execution_count": 67,
   "metadata": {},
   "outputs": [
    {
     "name": "stdout",
     "output_type": "stream",
     "text": [
      "请输入您的体重：70\n",
      "请输入您的身高：1.99\n",
      "您的BMI指数为： 17.67632130501755\n",
      "偏瘦\n"
     ]
    }
   ],
   "source": [
    "weight = float(input('请输入您的体重：'))\n",
    "high = float(input('请输入您的身高：'))\n",
    "# 完成BMI计算并返回结果提示信息\n",
    "# your code here\n",
    "BMI=float(float(weight)/(float(high)**2))\n",
    "print('您的BMI指数为：',BMI)\n",
    "if BMI <18:\n",
    "    print('偏瘦')\n",
    "elif BMI<=25:\n",
    "    print('标准体重')\n",
    "else:\n",
    "    print('偏重')"
   ]
  },
  {
   "cell_type": "markdown",
   "metadata": {},
   "source": [
    "字符统计\n",
    "创建一个函数，接收字符串输入，分别统计出其中英文字母、空格、数字和其它字符的个数后打印。\n",
    "提示：\n",
    "ord('a') 能将字符 'a' 转化为 ASCII 码表上对应的数值，\n",
    "例如，空格为32\n",
    "数字 0-9 对应的码值为 48-57\n",
    "大写字母 A-Z 对应 65-90\n",
    "小写字母 a-z 对应 97-122\n",
    "比122高的都是其它。"
   ]
  },
  {
   "cell_type": "code",
   "execution_count": 86,
   "metadata": {},
   "outputs": [
    {
     "name": "stdout",
     "output_type": "stream",
     "text": [
      "空格个数：2个\n",
      "数字个数：2个\n",
      "英文字母个数：12个\n",
      "其他字符个数：6个\n"
     ]
    }
   ],
   "source": [
    "def str_count(s):  \n",
    "    # 完成对应要求的统计，并返回对应的数量\n",
    "    # your code here\n",
    " \n",
    "    dic={'letter':0,'integer':0,'space':0,'other':0}\n",
    "    for i in s:\n",
    "        item=ord(i)\n",
    "#         print(item)\n",
    "        if item >= 97 and item<=122 or item>=65 and item<=90 :\n",
    "            dic['letter'] +=1\n",
    "        elif item >= 48 and item<=57:\n",
    "            dic['integer'] +=1\n",
    "        elif item ==32:\n",
    "            dic['space'] +=1\n",
    "        else:\n",
    "            dic['other'] +=1\n",
    "    count_s=  dic['space']\n",
    "    count_z=  dic['integer']\n",
    "    count_a=  dic['letter']\n",
    "    count_o=  dic['other']\n",
    "    print(\"空格个数：%d个\"%count_s)  \n",
    "    print(\"数字个数：%d个\"%count_z)\n",
    "    print(\"英文字母个数：%d个\"%count_a)\n",
    "    print(\"其他字符个数：%d个\"%count_o)  \n",
    "    \n",
    "str_count(\"我是xiao ming ming,今年27岁\")\n",
    "# str_count(\"9\")"
   ]
  },
  {
   "cell_type": "markdown",
   "metadata": {},
   "source": [
    "创建一个函数，可以将去除给定列表中中相邻且重复的元素(只保留一个)后，打印输出结果。¶\n",
    "说明\n",
    "输入参数为 l1=[1,2,3,4,4,4,4,4,4,5,6,6,8,8,12,12,12,12,13]\n",
    "操作后，保证原有整体排序不变，仅处理相邻且重复的元素\n",
    "请勿使用set，否则该题不计分。"
   ]
  },
  {
   "cell_type": "code",
   "execution_count": null,
   "metadata": {},
   "outputs": [],
   "source": [
    "def remove_same(ll):\n",
    "    # 完成题目要求的任务，并返回结果\n",
    "    # your code here\n",
    "    \n",
    "    return ll\n",
    "\n",
    "lst=[1,2,3,4,4,4,4,4,4,5,6,6,8,8,12,12,12,12,13]\n",
    "\n",
    "print(remove_same(lst))"
   ]
  }
 ],
 "metadata": {
  "kernelspec": {
   "display_name": "Python 3",
   "language": "python",
   "name": "python3"
  },
  "language_info": {
   "codemirror_mode": {
    "name": "ipython",
    "version": 3
   },
   "file_extension": ".py",
   "mimetype": "text/x-python",
   "name": "python",
   "nbconvert_exporter": "python",
   "pygments_lexer": "ipython3",
   "version": "3.7.3"
  },
  "toc": {
   "base_numbering": 1,
   "nav_menu": {},
   "number_sections": true,
   "sideBar": true,
   "skip_h1_title": false,
   "title_cell": "Table of Contents",
   "title_sidebar": "Contents",
   "toc_cell": false,
   "toc_position": {},
   "toc_section_display": true,
   "toc_window_display": false
  }
 },
 "nbformat": 4,
 "nbformat_minor": 2
}
