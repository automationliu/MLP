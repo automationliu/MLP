{
 "cells": [
  {
   "cell_type": "code",
   "execution_count": 4,
   "metadata": {},
   "outputs": [
    {
     "name": "stdout",
     "output_type": "stream",
     "text": [
      "kw\n",
      "kw\n",
      "kw\n"
     ]
    }
   ],
   "source": [
    "import keyword,string\n",
    "\n",
    "def Identifier(s):\n",
    "    kw = keyword.kwlist #内置关键字\n",
    "    print(\"kw\")\n",
    "    #请用if-else完成检测，打印conflict或者False\n",
    "    #your code here\n",
    "    return \n",
    "\n",
    "Identifier(\"list\")\n",
    "Identifier(\"abc#\")\n",
    "Identifier(\"1a\")"
   ]
  },
  {
   "cell_type": "code",
   "execution_count": null,
   "metadata": {},
   "outputs": [],
   "source": []
  },
  {
   "cell_type": "code",
   "execution_count": null,
   "metadata": {},
   "outputs": [],
   "source": []
  }
 ],
 "metadata": {
  "kernelspec": {
   "display_name": "Python 3",
   "language": "python",
   "name": "python3"
  },
  "language_info": {
   "codemirror_mode": {
    "name": "ipython",
    "version": 3
   },
   "file_extension": ".py",
   "mimetype": "text/x-python",
   "name": "python",
   "nbconvert_exporter": "python",
   "pygments_lexer": "ipython3",
   "version": "3.7.3"
  }
 },
 "nbformat": 4,
 "nbformat_minor": 2
}
